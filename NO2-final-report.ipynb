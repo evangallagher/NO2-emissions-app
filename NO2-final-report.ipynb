{
 "cells": [
  {
   "cell_type": "markdown",
   "metadata": {},
   "source": [
    "# NO2 Emissions Application Report\n",
    "## By: Evan Gallagher "
   ]
  },
  {
   "attachments": {},
   "cell_type": "markdown",
   "metadata": {},
   "source": [
    "\n",
    "\n",
    "### Abstract\n",
    "Nitrogen Dioxide emissions have been on the increase for nearly 50 years, primarily caused by combustion of fossil fuels and energy derived from coal power plants. Although nitrogen oxide emissions are expected to decrease in countries with increased electric transportation, \"rapid economic development has the potential to increase [NO2 emissions] significantly.\" Specifically, nitrogen oxide concentrations have seen an \"increase of about 50%... over industrial areas of China.\" (Richter) An application that could inform someone about surrounding NO2 concentrations shows potential to both keep the public informed and potentially save lives. \n",
    "\n",
    "### Project goals/motivation \n",
    "Unlike many in the applications course, I am a recent graduate with no formal work experience. Because of this I explored the options provided by the project partners. The project that caught my eye was proposed by Google's Kari Klein. The idea was to create an application in Google Earth Engine that takes a live dataset and factors in wind to get an idea where NO2 is emanating from. The first goal, and largest challenge to overcome in this project, is to get two very complex datasets to work together. This challenge would stem from both using code, as well as math to get these datsets to interact. From here, the second goal is to build out an application that people can run in their area.\n",
    "\n",
    "### Importance: \n",
    "According to the European Respiratory Journal, \"short-term NO2 exposure at about 500 micrograms.m3 affects human bronchial responsiveness.\"(Bylin) This study was done with merely 30 minutes of exposure, which draws attention to the above tropospheric NO2 graph of industrial China. Particularly in large cities such as Beijing and Hong Kong, NO2 is averaging at potentially harmful levels. China is far from the only country to be experiencing this, from India to South Africa, many countries are seeing a rise in NO2 concentration. This is to say that an application that can take any given location, and provide an accurate reading of NO2 would be broadly applicable around the world. \n",
    "\n"
   ]
  },
  {
   "cell_type": "markdown",
   "metadata": {},
   "source": [
    "## Datasets Used \n",
    "\n",
    "* `Tropomi:` \"Tropomi\" is a dataset measured by the satellite Sentinel-5P, launched by the European Space Agency. This satellite has an on-board sensor for tropospheric NO2, which is referred to as the TROPOspheric Monitoring Instrument, or Tropomi for short. It is constantly taking data, and produces a near real time feed of the NO2 data. Tropomi has a spatial resolution of 3.5x7km2. In this project, this is the main dataset used, and most calculations are done with this as the starting point \n",
    "* `ERA5 Daily aggregates:` ERA5 is an atmospheric analysis of the global climate, provided by the Copernicus Climate Change Service. ERA5 provides aggregated values each day for seven climate parameters. We are particularly interested bands 8 and 9, the U and the V components of wind.  Copernicus' website states the spatial resolution of ERA5 is ~ 5x10km2. The two bands of interest can be used as a vector on Tropomi data to calculate wind direction and speed to move pixels to a different spot. \n",
    "* `Global Power Plant Database:` a dataset provided by the World Resources Institute. This is useful to find power plants that have potential to emanate NO2. This is useful for a study area, and is covered more in approach.\n",
    "\n",
    "**Important note on datasets:** One important feature of Google Earth Engine is that all datasets are global. No dataset imported will have specific spatial parameters, unless specifically idientified as such. \n"
   ]
  },
  {
   "cell_type": "markdown",
   "metadata": {},
   "source": [
    "## Approach \n",
    "The workflow of  this project will be done in the cloud-based coding platform: Google Earth Engine. The overall process can be broken down into three phases: \n",
    "* `Phase 1:` Work in one single study area, to create a calculation that takes Tropomi data pixels, and moves closer to a nearby power plant. This phase is by far the most complicated part of the project, and I expand on it below the workflow graphic.\n",
    "* `Phase 2:` Take the \"working\" calculation, and apply it to other Tropomi pixels. If the calculation does not apply well to other locations, then it will likely need to be reworked until results are satisfactory. \n",
    "* `Phase 3:` Take the now broadly-applicable calculation, and create an application that can take an input gps location, and derive a more accurate NO2 calculation. \n",
    "![alt text](https://i.ibb.co/3fN3wzV/Screen-Shot-2020-07-05-at-10-00-49-PM.png \"Logo Title Text 1\")\n",
    "A helpful image visualization of the overall workflow \n"
   ]
  },
  {
   "cell_type": "markdown",
   "metadata": {},
   "source": [
    "## The Math\n",
    "The math of this application is where I spent a bulk of my time. Because my end result still did not reach what I would have liked to continue to phase 3, I will be referring to the steps below in the results section. \n",
    "* `Step 1: Calculate Monthly Values` Our GEE data needs to be over a period of time in order to get meaningful results. Weekly averages were taken for analysis. \n",
    "* `Step 2: Calculate LVw` This is the main calculation for wind on Tropomi data. **L** is the ratio of N02 to the other oxides of Nitrogen. A research article by Steffen Beirle of _Science Advances_ set this variable as a constant of 1.32. **V** is NO2 tropospheric values, to eliminate uncertainty created from stratospheric NO2 which does not affect ground level. And **w** is the wind, calculated as a vector. Using the U and the V bands of wind, allows us to move Tropomi pixels in a certain direction. \n",
    "* `Step 3: Calculate New Spatial Gradient` Now that we have a new set of values from the equation above, we need to calculate a new gradient. This is added as a new band. \n",
    "* `Step 4: Incorporate Chemical Lifetime` Apart from simply moving the Tropomi values with a wind vector, we need to incorporate chemical lifetime. This leaves us with the final equation of LV/tao + gradient."
   ]
  },
  {
   "cell_type": "markdown",
   "metadata": {},
   "source": [
    "## The Study Area\n",
    "Using a study area was helpful for this project, and so I chose a location with interesting tropomi results, the Pawnee Generating Plant in Brush, CO. This plant often burns coal, creating high NO2 emissions. \n",
    "#### Greater Denver Area\n",
    "![alt text](https://i.ibb.co/bRMqcRw/Screen-Shot-2020-07-05-at-10-38-36-PM.png)\n",
    "A zoomed out version of study area. The yellow pin shows the Pawnee Generating Station \n",
    "\n",
    "#### Pawnee Generating Plant Study Area\n",
    "![alt text](https://i.ibb.co/4JMvQN0/Screen-Shot-2020-07-05-at-10-37-14-PM.png \"Logo Title Text 1\")\n",
    "Zoomed in study area. The green outline displays the entire area of tropomi data considered. "
   ]
  },
  {
   "cell_type": "markdown",
   "metadata": {},
   "source": [
    "### What do we see at the Pawnee Coal plant? \n",
    "\n",
    "![alt text](https://i.ibb.co/pKLr2cS/Screen-Shot-2020-07-05-at-10-40-20-PM.png)\n",
    "Plot of the study area, with relevant Tropomi data laid over. The reason for picking this as a study area can be visualized here. There is a large spike of NO2 to the Northwest of the power plant. When compared to the regular study area map, we can see this area is mostly open fields and lakes, which we would not expect to have high NO2 values. This implies these NO2 pixels could be traveling from another location. "
   ]
  },
  {
   "cell_type": "markdown",
   "metadata": {},
   "source": [
    "## Results \n",
    "So what does the application currently show? At the moment, results tend to skew much to far to the lower end, which can be seen below. \n",
    "![alt text](https://i.ibb.co/16JxdpG/Screen-Shot-2020-07-05-at-10-47-49-PM.png)\n",
    "\n",
    "### Speculations \n",
    "These results are not what we would have expected, when compared to the pure Tropomi pixels shown above. Tropomi for this area and time frame, was much more towards the higher end, reaching red pixel values(very high.) The final code instead of condensing these red values towards the study area, skews all values to be much too low. In the section below, I outline methods I think could make the results more useful.\n",
    "\n"
   ]
  },
  {
   "cell_type": "markdown",
   "metadata": {},
   "source": [
    "## Next Steps\n",
    "(i.e. applications/implications of work to other study areas, topic, or industry or science at large; what will/would you do next)\n",
    "Since I did not end up with a calculation I feel comfortable implementing, the first continuing step is to work out this calculation. I have the theories for what could be going wrong that are a good place to start. \n",
    "\n",
    "* `Theory 1: The Gradient` Referring to the math section above, this is \"step 3.\" I believe this could be the issue, because an incorrect gradient would be a primary cause of values being skewed together. In this case, the gradient could have become too large, which would mean we have meaningful values, but when plot onto the map, they are all lumped together in one bin.\n",
    "* `Theory 2: The Chemical life` The next two theories relate to the chemical lifetime, which is calculated in \"step 4.\" The very last step of the math is to divide by four, and then add the gradient. It seems possible that too many values are being divided by four, this fix could be as easy as changing around some parenthesis, to as complicated as restructuring how some of the code runs. \n",
    "* `Theory 3: Just Use LVw` One interesting result of this project, was that just calculating the LVw(in other words stopping at \"step 2\" had interesting results. While not always consistent, just adding the wind as vector to Tropomi often moved the pixels more central to Pawnee Power Plant. This was inconsistent with the research article however, and so there was no way to compare these results to something meaningful. \n"
   ]
  },
  {
   "cell_type": "markdown",
   "metadata": {},
   "source": [
    "## The Current Product\n",
    "Google Earth Engine allows for a user to take a snapshot of their code, to be able to share with the world. \n",
    "<a href=\"https://code.earthengine.google.com/92897eac1489af20b4d4905c8f0909db\" target=\"_blank\">This link</a> takes you to the most recent version of my code. It should be noted that I intend to continue working on this code, in hopes of getting meaningful results. If you would like to check in on how I am doing, I will be updating my github repository. My repository can be found at <a href=\"https://github.com/evangallagher/NO2-emissions-app\" target=\"_blank\">this link.</a> "
   ]
  },
  {
   "cell_type": "markdown",
   "metadata": {},
   "source": [
    "## Citations \n",
    "\n",
    "* Richter, A., Burrows, J., Nüß, H. et al. Increase in tropospheric nitrogen dioxide over China observed from space. Nature 437, 129–132 (2005). https://doi.org/10.1038/nature04092\n",
    "\n",
    "* G Bylin, G Hedenstierna, T Lindvall, B Sundin\n",
    "European Respiratory Journal 1988 1: 606-612;\n",
    "\n",
    "* Beirle, Steffen, et al. “Pinpointing Nitrogen Oxide Emissions from Space.” Science Advances, vol. 5, no. 11, 2019, doi:10.1126/sciadv.aax9800.\n"
   ]
  },
  {
   "cell_type": "code",
   "execution_count": null,
   "metadata": {},
   "outputs": [],
   "source": []
  }
 ],
 "metadata": {
  "kernelspec": {
   "display_name": "Python 3",
   "language": "python",
   "name": "python3"
  },
  "language_info": {
   "codemirror_mode": {
    "name": "ipython",
    "version": 3
   },
   "file_extension": ".py",
   "mimetype": "text/x-python",
   "name": "python",
   "nbconvert_exporter": "python",
   "pygments_lexer": "ipython3",
   "version": "3.7.6"
  }
 },
 "nbformat": 4,
 "nbformat_minor": 4
}
